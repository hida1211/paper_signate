{
  "cells": [
    {
      "cell_type": "markdown",
      "metadata": {
        "id": "view-in-github",
        "colab_type": "text"
      },
      "source": [
        "<a href=\"https://colab.research.google.com/github/hida1211/paper_signate/blob/main/APTOS_base.ipynb\" target=\"_parent\"><img src=\"https://colab.research.google.com/assets/colab-badge.svg\" alt=\"Open In Colab\"/></a>"
      ]
    },
    {
      "cell_type": "code",
      "source": [
        "# =========================================================\n",
        "# 0. 環境セットアップ\n",
        "# =========================================================\n",
        "!pip install -q fsspec huggingface_hub pandas pillow matplotlib tqdm pytorchvideo\n",
        "!pip install -q --upgrade torchcodec\n",
        "\n",
        "from google.colab import drive\n",
        "drive.mount(\"/content/drive\")"
      ],
      "metadata": {
        "colab": {
          "base_uri": "https://localhost:8080/"
        },
        "id": "FiEymQDVjNPF",
        "outputId": "37401579-2b02-452f-c969-fd3c0839d638"
      },
      "execution_count": null,
      "outputs": [
        {
          "output_type": "stream",
          "name": "stdout",
          "text": [
            "\u001b[?25l   \u001b[90m━━━━━━━━━━━━━━━━━━━━━━━━━━━━━━━━━━━━━━━━\u001b[0m \u001b[32m0.0/766.4 kB\u001b[0m \u001b[31m?\u001b[0m eta \u001b[36m-:--:--\u001b[0m\r\u001b[2K   \u001b[90m━━━━━━━━━━━━━━━━━━━━━━━━━━━━━━━━━━━━━━━━\u001b[0m \u001b[32m766.4/766.4 kB\u001b[0m \u001b[31m42.0 MB/s\u001b[0m eta \u001b[36m0:00:00\u001b[0m\n",
            "\u001b[?25hDrive already mounted at /content/drive; to attempt to forcibly remount, call drive.mount(\"/content/drive\", force_remount=True).\n"
          ]
        }
      ]
    },
    {
      "cell_type": "code",
      "source": [
        "# =========================================================\n",
        "# 1. import & 定数\n",
        "# =========================================================\n",
        "import os, subprocess, random, textwrap, torch, torch.nn as nn\n",
        "from pathlib import Path\n",
        "import pandas as pd\n",
        "import torchvision.transforms as T\n",
        "import torchvision.transforms.v2.functional as F\n",
        "from torchvision import models\n",
        "from torch.utils.data import DataLoader\n",
        "from tqdm import tqdm\n",
        "from datetime import datetime\n",
        "from pytorchvideo.data.encoded_video import EncodedVideo\n",
        "from PIL import Image                                ### ★ 追加\n",
        "\n",
        "DRIVE_ROOT   = Path(\"/content/drive/MyDrive/kaggle/APTOS\")\n",
        "SHARD_DIR    = DRIVE_ROOT / \"APTOS_train-val\"\n",
        "TRAIN_CSV    = DRIVE_ROOT / \"APTOS_train-val_annotation.csv\"\n",
        "VAL2_CSV     = DRIVE_ROOT / \"APTOS_val2.csv\"\n",
        "\n",
        "VIDEO_DIR        = Path(\"/content/aptos_videos\")\n",
        "VAL2_VIDEO_DIR   = Path(\"/content/val2_videos\")      # zip 展開先\n",
        "FRAMES_DIR       = VAL2_VIDEO_DIR / \"aptos_val2\" / \"frames\"   ### ★ 追加\n",
        "\n",
        "for p in (VIDEO_DIR, VAL2_VIDEO_DIR): p.mkdir(parents=True, exist_ok=True)\n",
        "\n",
        "NUM_CLASSES  = 35\n",
        "IMAGE_SIZE   = 224\n",
        "BATCH_SIZE   = 32\n",
        "EPOCHS       = 3\n",
        "FPS_ORIG     = 30\n",
        "DEVICE       = torch.device(\"cuda\" if torch.cuda.is_available() else \"cpu\")\n",
        "torch.backends.cudnn.benchmark = True; random.seed(0)\n",
        "print(\"Device →\", DEVICE)"
      ],
      "metadata": {
        "colab": {
          "base_uri": "https://localhost:8080/"
        },
        "id": "KAndvJwKjN4e",
        "outputId": "9c8ffb58-cb45-4e66-f470-5f7aa8ddb9dd"
      },
      "execution_count": null,
      "outputs": [
        {
          "output_type": "stream",
          "name": "stdout",
          "text": [
            "Device → cuda\n"
          ]
        }
      ]
    },
    {
      "cell_type": "code",
      "source": [
        "# =========================================================\n",
        "# 2. split‑tar をストリーム展開\n",
        "# =========================================================\n",
        "# extract_cmd = f\"\"\"\n",
        "# set -e\n",
        "# cd \"{SHARD_DIR}\"\n",
        "# cat aptos_ophnet.tar.gz.* | tar --strip-components=1 -xzf - -C \"{VIDEO_DIR}\"\n",
        "# \"\"\"\n",
        "# subprocess.run(textwrap.dedent(extract_cmd), shell=True, check=True)\n",
        "# print(\"✅ training videos extracted\")\n",
        "\n",
        "# 一時 tar.gz を作る\n",
        "!cat /content/drive/MyDrive/kaggle/APTOS/APTOS_train-val/aptos_ophnet.tar.gz.* > /tmp/aptos_ophnet.tar.gz\n",
        "\n",
        "# 展開（こっちのほうが速いこと多い）\n",
        "!tar -xzf /tmp/aptos_ophnet.tar.gz -C /content/aptos_videos --strip-components=1\n",
        "\n",
        "\n",
        "# =========================================================\n",
        "# 2.1 val2.zip を展開\n",
        "# =========================================================\n",
        "VAL2_ZIP = DRIVE_ROOT / \"APTOS_val2.zip\"\n",
        "if VAL2_ZIP.exists() and not FRAMES_DIR.exists():\n",
        "    subprocess.run(f'unzip -q \"{VAL2_ZIP}\" -d \"{VAL2_VIDEO_DIR}\"', shell=True, check=True)\n",
        "    print(\"✅ val2 frames extracted →\", FRAMES_DIR)\n"
      ],
      "metadata": {
        "colab": {
          "base_uri": "https://localhost:8080/"
        },
        "id": "aymSkrp0jN6m",
        "outputId": "2ff527f2-805d-4c18-a6c3-9c5c1137fbcb"
      },
      "execution_count": null,
      "outputs": [
        {
          "output_type": "stream",
          "name": "stdout",
          "text": [
            "\n",
            "set -e\n",
            "cd \"/content/drive/MyDrive/kaggle/APTOS/APTOS_train-val\"\n",
            "# --strip-components=1 で先頭の aptos_videos/ を捨てる\n",
            "cat aptos_ophnet.tar.gz.* | tar --strip-components=1 -xzf - -C \"/content/aptos_videos/aptos_videos\"\n",
            "\n",
            "✅ streaming extract done\n"
          ]
        }
      ]
    },
    {
      "cell_type": "code",
      "source": [
        "# =========================================================\n",
        "# 3. CSV 読み込み & 動画リスト突合\n",
        "# =========================================================\n",
        "ann_df   = pd.read_csv(TRAIN_CSV)\n",
        "disk_vids = {p.stem for p in VIDEO_DIR.glob(\"*.mp4\")}\n",
        "ann_df   = ann_df[ann_df.video_id.isin(disk_vids)].reset_index(drop=True)\n",
        "train_df = ann_df[ann_df.split == \"train\"]\n",
        "val_df   = ann_df[ann_df.split == \"val\"]\n",
        "print(f\"train clips: {len(train_df)} / val clips: {len(val_df)}\")\n"
      ],
      "metadata": {
        "colab": {
          "base_uri": "https://localhost:8080/"
        },
        "id": "MYKLW7k1jN9K",
        "outputId": "b45b2b70-dc20-4c64-e2ee-a41841501646"
      },
      "execution_count": null,
      "outputs": [
        {
          "output_type": "stream",
          "name": "stdout",
          "text": [
            "train clips: 8768 / val clips: 2180\n"
          ]
        }
      ]
    },
    {
      "cell_type": "code",
      "source": [
        "# =========================================================\n",
        "# 4. Dataset 定義\n",
        "# =========================================================\n",
        "T_RESIZE = T.Resize((IMAGE_SIZE, IMAGE_SIZE), antialias=True)\n",
        "\n",
        "# ---- TorchCodec 版 (mp4 用、変更なし)\n",
        "from torchcodec.decoders import VideoDecoder\n",
        "class OphNetDS_TC(torch.utils.data.Dataset):\n",
        "    def __init__(self, df, center=True, gpu_decode=True, root=VIDEO_DIR):\n",
        "        self.df, self.center, self.root = df.reset_index(drop=True), center, root\n",
        "        self.device = \"cuda\" if (gpu_decode and torch.cuda.is_available()) else \"cpu\"\n",
        "\n",
        "    def __len__(self): return len(self.df)\n",
        "\n",
        "    def __getitem__(self, idx):\n",
        "        row   = self.df.iloc[idx]\n",
        "        fp    = self.root / f\"{row.video_id}.mp4\"\n",
        "        sec   = (row.start + row.end) / 2 if self.center else row.start\n",
        "        try:\n",
        "            frame = VideoDecoder(fp, device=self.device, num_ffmpeg_threads=1,\n",
        "                                 seek_mode=\"approximate\").get_frame_played_at(sec).data\n",
        "        except Exception:\n",
        "            frame = torch.zeros((3, IMAGE_SIZE, IMAGE_SIZE), dtype=torch.uint8)\n",
        "        frame = T_RESIZE(frame).float().div(255.)\n",
        "        frame = F.normalize(frame,\n",
        "                             mean=[0.485, 0.456, 0.406],\n",
        "                             std =[0.229, 0.224, 0.225])\n",
        "        label = int(row.phase_id) if \"phase_id\" in row else idx\n",
        "        return frame, label\n",
        "\n",
        "# ---- ★ val2 専用：jpg フレーム読み込み版\n",
        "class OphNetFrameDS(torch.utils.data.Dataset):\n",
        "    def __init__(self, df, frames_dir=FRAMES_DIR):\n",
        "        self.df = df.reset_index(drop=True)\n",
        "        self.frames_dir = Path(frames_dir)\n",
        "\n",
        "    def __len__(self): return len(self.df)\n",
        "\n",
        "    def __getitem__(self, idx):\n",
        "        row = self.df.iloc[idx]\n",
        "        img = Image.open(self.frames_dir / row.Frame_id).convert(\"RGB\")\n",
        "        img = F.pil_to_tensor(img)            # uint8 [0,255]\n",
        "        img = T_RESIZE(img).float().div(255.)\n",
        "        img = F.normalize(img,\n",
        "                          mean=[0.485, 0.456, 0.406],\n",
        "                          std =[0.229, 0.224, 0.225])\n",
        "        return img, idx                       # idx をそのまま戻す"
      ],
      "metadata": {
        "id": "IXHUKXa0jN_b"
      },
      "execution_count": null,
      "outputs": []
    },
    {
      "cell_type": "code",
      "source": [
        "# =========================================================\n",
        "# 5. model / train util\n",
        "# =========================================================\n",
        "def get_model():\n",
        "    m = models.resnet50(weights=models.ResNet50_Weights.IMAGENET1K_V1)\n",
        "    m.fc = nn.Linear(m.fc.in_features, NUM_CLASSES)\n",
        "    return m\n",
        "\n",
        "@torch.no_grad()\n",
        "def eval_epoch(m, loader):\n",
        "    m.eval(); acc = tot = 0\n",
        "    for x, y in tqdm(loader, desc=\"🧪 val\", leave=False):\n",
        "        acc += (m(x.to(DEVICE)).argmax(1) == y.to(DEVICE)).sum().item()\n",
        "        tot += y.size(0)\n",
        "    return acc / tot\n",
        "\n",
        "def train_epoch(m, loader, crit, opt):\n",
        "    m.train(); running = 0\n",
        "    for step, (x, y) in enumerate(tqdm(loader, desc=\"🔧 train\", leave=False), 1):\n",
        "        x, y = x.to(DEVICE), y.to(DEVICE)\n",
        "        opt.zero_grad(set_to_none=True)\n",
        "        loss = crit(m(x), y); loss.backward(); opt.step()\n",
        "        running += loss.item() * y.size(0)\n",
        "    return running / len(loader.dataset)"
      ],
      "metadata": {
        "id": "wTU0y0U-jOBQ"
      },
      "execution_count": null,
      "outputs": []
    },
    {
      "cell_type": "code",
      "source": [
        "# =========================================================\n",
        "# 6. DataLoader & 学習\n",
        "# =========================================================\n",
        "train_loader = DataLoader(OphNetDS_TC(train_df), batch_size=BATCH_SIZE,\n",
        "                          shuffle=True, num_workers=8, pin_memory=True)\n",
        "val_loader   = DataLoader(OphNetDS_TC(val_df),   batch_size=BATCH_SIZE,\n",
        "                          shuffle=False, num_workers=8, pin_memory=True)\n",
        "\n",
        "model = get_model().to(DEVICE)\n",
        "freq = ann_df.phase_id.value_counts().sort_index().values\n",
        "criterion = nn.CrossEntropyLoss(weight=(1/torch.tensor(freq, dtype=torch.float)\n",
        "                                        * NUM_CLASSES / (1/torch.tensor(freq, dtype=torch.float)).sum()\n",
        "                                       ).to(DEVICE))\n",
        "opt = torch.optim.AdamW(model.parameters(), lr=3e-4)\n",
        "\n",
        "for ep in range(1, EPOCHS + 1):\n",
        "    print(f\"\\n[{datetime.now().strftime('%H:%M:%S')}] ⏩ Epoch {ep}/{EPOCHS}\")\n",
        "    tl = train_epoch(model, train_loader, criterion, opt)\n",
        "    va = eval_epoch(model, val_loader)\n",
        "    print(f\"✅ Epoch {ep}: train_loss {tl:.4f} | val_acc {va:.4f}\")"
      ],
      "metadata": {
        "colab": {
          "base_uri": "https://localhost:8080/"
        },
        "id": "g0Rr0z6ijODV",
        "outputId": "7d361275-87fd-4f9d-9e1c-4fc35ae43690"
      },
      "execution_count": null,
      "outputs": [
        {
          "output_type": "stream",
          "name": "stderr",
          "text": [
            "Downloading: \"https://download.pytorch.org/models/resnet50-0676ba61.pth\" to /root/.cache/torch/hub/checkpoints/resnet50-0676ba61.pth\n",
            "100%|██████████| 97.8M/97.8M [00:00<00:00, 204MB/s]\n"
          ]
        },
        {
          "output_type": "stream",
          "name": "stdout",
          "text": [
            "\n",
            "[15:22:51] ⏩ Epoch 1/3\n"
          ]
        },
        {
          "output_type": "stream",
          "name": "stderr",
          "text": []
        },
        {
          "output_type": "stream",
          "name": "stdout",
          "text": [
            "✅ Epoch 1: train_loss 3.5484 | val_acc 0.0344\n",
            "\n",
            "[15:23:37] ⏩ Epoch 2/3\n"
          ]
        },
        {
          "output_type": "stream",
          "name": "stderr",
          "text": []
        },
        {
          "output_type": "stream",
          "name": "stdout",
          "text": [
            "✅ Epoch 2: train_loss 3.5168 | val_acc 0.0275\n",
            "\n",
            "[15:24:21] ⏩ Epoch 3/3\n"
          ]
        },
        {
          "output_type": "stream",
          "name": "stderr",
          "text": [
            "                                                       "
          ]
        },
        {
          "output_type": "stream",
          "name": "stdout",
          "text": [
            "✅ Epoch 3: train_loss 3.5233 | val_acc 0.0541\n"
          ]
        },
        {
          "output_type": "stream",
          "name": "stderr",
          "text": [
            "\r"
          ]
        }
      ]
    },
    {
      "cell_type": "code",
      "source": [
        "# =========================================================\n",
        "# 7. val2 推論 & 提出 CSV 生成\n",
        "# =========================================================\n",
        "val2_df = pd.read_csv(VAL2_CSV)              # オリジナル順を維持\n",
        "assert len(val2_df) == len(list(FRAMES_DIR.glob(\"*.jpg\")))\n",
        "\n",
        "val2_loader = DataLoader(\n",
        "    OphNetFrameDS(val2_df),\n",
        "    batch_size=BATCH_SIZE, shuffle=False,\n",
        "    num_workers=8, pin_memory=True, persistent_workers=True\n",
        ")\n",
        "\n",
        "preds = torch.zeros(len(val2_df), dtype=torch.long)\n",
        "model.eval()\n",
        "with torch.no_grad():\n",
        "    for imgs, idx in tqdm(val2_loader, desc=\"infer\"):\n",
        "        preds[idx] = model(imgs.to(DEVICE)).argmax(1).cpu()\n",
        "\n",
        "out_df = val2_df.copy()\n",
        "out_df[\"Predict_phase_id\"] = preds.numpy().astype(int)\n",
        "save_path = DRIVE_ROOT / \"APTOS_val2_pred.csv\"\n",
        "out_df.to_csv(save_path, index=False)\n",
        "print(\"✅ saved →\", save_path)"
      ],
      "metadata": {
        "colab": {
          "base_uri": "https://localhost:8080/"
        },
        "id": "EisSAKYAjOFf",
        "outputId": "fb574575-857e-4330-d647-8b8a8c66fdec"
      },
      "execution_count": null,
      "outputs": [
        {
          "output_type": "stream",
          "name": "stderr",
          "text": [
            "infer: 100%|██████████| 1403/1403 [01:05<00:00, 21.57it/s]"
          ]
        },
        {
          "output_type": "stream",
          "name": "stdout",
          "text": [
            "✅ saved → /content/drive/MyDrive/kaggle/APTOS/APTOS_val2_pred.csv\n"
          ]
        },
        {
          "output_type": "stream",
          "name": "stderr",
          "text": [
            "\n"
          ]
        }
      ]
    },
    {
      "cell_type": "code",
      "source": [
        "out_df"
      ],
      "metadata": {
        "colab": {
          "base_uri": "https://localhost:8080/",
          "height": 424
        },
        "id": "KEyoIS_VE7Zh",
        "outputId": "4aa0ef02-28b9-46ba-bde5-81551f30009c"
      },
      "execution_count": null,
      "outputs": [
        {
          "output_type": "execute_result",
          "data": {
            "text/plain": [
              "      Video_name             Frame_id  Predict_phase_id\n",
              "0      case_2000      case_2000_0.jpg                18\n",
              "1      case_2000      case_2000_1.jpg                18\n",
              "2      case_2000      case_2000_2.jpg                18\n",
              "3      case_2000      case_2000_3.jpg                18\n",
              "4      case_2000      case_2000_4.jpg                18\n",
              "...          ...                  ...               ...\n",
              "44890  case_2101  case_2101_44890.jpg                 1\n",
              "44891  case_2101  case_2101_44891.jpg                 1\n",
              "44892  case_2101  case_2101_44892.jpg                 1\n",
              "44893  case_2101  case_2101_44893.jpg                 1\n",
              "44894  case_2101  case_2101_44894.jpg                 1\n",
              "\n",
              "[44895 rows x 3 columns]"
            ],
            "text/html": [
              "\n",
              "  <div id=\"df-ec980464-a961-4842-9725-4f1889ed9f6a\" class=\"colab-df-container\">\n",
              "    <div>\n",
              "<style scoped>\n",
              "    .dataframe tbody tr th:only-of-type {\n",
              "        vertical-align: middle;\n",
              "    }\n",
              "\n",
              "    .dataframe tbody tr th {\n",
              "        vertical-align: top;\n",
              "    }\n",
              "\n",
              "    .dataframe thead th {\n",
              "        text-align: right;\n",
              "    }\n",
              "</style>\n",
              "<table border=\"1\" class=\"dataframe\">\n",
              "  <thead>\n",
              "    <tr style=\"text-align: right;\">\n",
              "      <th></th>\n",
              "      <th>Video_name</th>\n",
              "      <th>Frame_id</th>\n",
              "      <th>Predict_phase_id</th>\n",
              "    </tr>\n",
              "  </thead>\n",
              "  <tbody>\n",
              "    <tr>\n",
              "      <th>0</th>\n",
              "      <td>case_2000</td>\n",
              "      <td>case_2000_0.jpg</td>\n",
              "      <td>18</td>\n",
              "    </tr>\n",
              "    <tr>\n",
              "      <th>1</th>\n",
              "      <td>case_2000</td>\n",
              "      <td>case_2000_1.jpg</td>\n",
              "      <td>18</td>\n",
              "    </tr>\n",
              "    <tr>\n",
              "      <th>2</th>\n",
              "      <td>case_2000</td>\n",
              "      <td>case_2000_2.jpg</td>\n",
              "      <td>18</td>\n",
              "    </tr>\n",
              "    <tr>\n",
              "      <th>3</th>\n",
              "      <td>case_2000</td>\n",
              "      <td>case_2000_3.jpg</td>\n",
              "      <td>18</td>\n",
              "    </tr>\n",
              "    <tr>\n",
              "      <th>4</th>\n",
              "      <td>case_2000</td>\n",
              "      <td>case_2000_4.jpg</td>\n",
              "      <td>18</td>\n",
              "    </tr>\n",
              "    <tr>\n",
              "      <th>...</th>\n",
              "      <td>...</td>\n",
              "      <td>...</td>\n",
              "      <td>...</td>\n",
              "    </tr>\n",
              "    <tr>\n",
              "      <th>44890</th>\n",
              "      <td>case_2101</td>\n",
              "      <td>case_2101_44890.jpg</td>\n",
              "      <td>1</td>\n",
              "    </tr>\n",
              "    <tr>\n",
              "      <th>44891</th>\n",
              "      <td>case_2101</td>\n",
              "      <td>case_2101_44891.jpg</td>\n",
              "      <td>1</td>\n",
              "    </tr>\n",
              "    <tr>\n",
              "      <th>44892</th>\n",
              "      <td>case_2101</td>\n",
              "      <td>case_2101_44892.jpg</td>\n",
              "      <td>1</td>\n",
              "    </tr>\n",
              "    <tr>\n",
              "      <th>44893</th>\n",
              "      <td>case_2101</td>\n",
              "      <td>case_2101_44893.jpg</td>\n",
              "      <td>1</td>\n",
              "    </tr>\n",
              "    <tr>\n",
              "      <th>44894</th>\n",
              "      <td>case_2101</td>\n",
              "      <td>case_2101_44894.jpg</td>\n",
              "      <td>1</td>\n",
              "    </tr>\n",
              "  </tbody>\n",
              "</table>\n",
              "<p>44895 rows × 3 columns</p>\n",
              "</div>\n",
              "    <div class=\"colab-df-buttons\">\n",
              "\n",
              "  <div class=\"colab-df-container\">\n",
              "    <button class=\"colab-df-convert\" onclick=\"convertToInteractive('df-ec980464-a961-4842-9725-4f1889ed9f6a')\"\n",
              "            title=\"Convert this dataframe to an interactive table.\"\n",
              "            style=\"display:none;\">\n",
              "\n",
              "  <svg xmlns=\"http://www.w3.org/2000/svg\" height=\"24px\" viewBox=\"0 -960 960 960\">\n",
              "    <path d=\"M120-120v-720h720v720H120Zm60-500h600v-160H180v160Zm220 220h160v-160H400v160Zm0 220h160v-160H400v160ZM180-400h160v-160H180v160Zm440 0h160v-160H620v160ZM180-180h160v-160H180v160Zm440 0h160v-160H620v160Z\"/>\n",
              "  </svg>\n",
              "    </button>\n",
              "\n",
              "  <style>\n",
              "    .colab-df-container {\n",
              "      display:flex;\n",
              "      gap: 12px;\n",
              "    }\n",
              "\n",
              "    .colab-df-convert {\n",
              "      background-color: #E8F0FE;\n",
              "      border: none;\n",
              "      border-radius: 50%;\n",
              "      cursor: pointer;\n",
              "      display: none;\n",
              "      fill: #1967D2;\n",
              "      height: 32px;\n",
              "      padding: 0 0 0 0;\n",
              "      width: 32px;\n",
              "    }\n",
              "\n",
              "    .colab-df-convert:hover {\n",
              "      background-color: #E2EBFA;\n",
              "      box-shadow: 0px 1px 2px rgba(60, 64, 67, 0.3), 0px 1px 3px 1px rgba(60, 64, 67, 0.15);\n",
              "      fill: #174EA6;\n",
              "    }\n",
              "\n",
              "    .colab-df-buttons div {\n",
              "      margin-bottom: 4px;\n",
              "    }\n",
              "\n",
              "    [theme=dark] .colab-df-convert {\n",
              "      background-color: #3B4455;\n",
              "      fill: #D2E3FC;\n",
              "    }\n",
              "\n",
              "    [theme=dark] .colab-df-convert:hover {\n",
              "      background-color: #434B5C;\n",
              "      box-shadow: 0px 1px 3px 1px rgba(0, 0, 0, 0.15);\n",
              "      filter: drop-shadow(0px 1px 2px rgba(0, 0, 0, 0.3));\n",
              "      fill: #FFFFFF;\n",
              "    }\n",
              "  </style>\n",
              "\n",
              "    <script>\n",
              "      const buttonEl =\n",
              "        document.querySelector('#df-ec980464-a961-4842-9725-4f1889ed9f6a button.colab-df-convert');\n",
              "      buttonEl.style.display =\n",
              "        google.colab.kernel.accessAllowed ? 'block' : 'none';\n",
              "\n",
              "      async function convertToInteractive(key) {\n",
              "        const element = document.querySelector('#df-ec980464-a961-4842-9725-4f1889ed9f6a');\n",
              "        const dataTable =\n",
              "          await google.colab.kernel.invokeFunction('convertToInteractive',\n",
              "                                                    [key], {});\n",
              "        if (!dataTable) return;\n",
              "\n",
              "        const docLinkHtml = 'Like what you see? Visit the ' +\n",
              "          '<a target=\"_blank\" href=https://colab.research.google.com/notebooks/data_table.ipynb>data table notebook</a>'\n",
              "          + ' to learn more about interactive tables.';\n",
              "        element.innerHTML = '';\n",
              "        dataTable['output_type'] = 'display_data';\n",
              "        await google.colab.output.renderOutput(dataTable, element);\n",
              "        const docLink = document.createElement('div');\n",
              "        docLink.innerHTML = docLinkHtml;\n",
              "        element.appendChild(docLink);\n",
              "      }\n",
              "    </script>\n",
              "  </div>\n",
              "\n",
              "\n",
              "<div id=\"df-810fdb72-346a-4a60-8866-3231fa3df49e\">\n",
              "  <button class=\"colab-df-quickchart\" onclick=\"quickchart('df-810fdb72-346a-4a60-8866-3231fa3df49e')\"\n",
              "            title=\"Suggest charts\"\n",
              "            style=\"display:none;\">\n",
              "\n",
              "<svg xmlns=\"http://www.w3.org/2000/svg\" height=\"24px\"viewBox=\"0 0 24 24\"\n",
              "     width=\"24px\">\n",
              "    <g>\n",
              "        <path d=\"M19 3H5c-1.1 0-2 .9-2 2v14c0 1.1.9 2 2 2h14c1.1 0 2-.9 2-2V5c0-1.1-.9-2-2-2zM9 17H7v-7h2v7zm4 0h-2V7h2v10zm4 0h-2v-4h2v4z\"/>\n",
              "    </g>\n",
              "</svg>\n",
              "  </button>\n",
              "\n",
              "<style>\n",
              "  .colab-df-quickchart {\n",
              "      --bg-color: #E8F0FE;\n",
              "      --fill-color: #1967D2;\n",
              "      --hover-bg-color: #E2EBFA;\n",
              "      --hover-fill-color: #174EA6;\n",
              "      --disabled-fill-color: #AAA;\n",
              "      --disabled-bg-color: #DDD;\n",
              "  }\n",
              "\n",
              "  [theme=dark] .colab-df-quickchart {\n",
              "      --bg-color: #3B4455;\n",
              "      --fill-color: #D2E3FC;\n",
              "      --hover-bg-color: #434B5C;\n",
              "      --hover-fill-color: #FFFFFF;\n",
              "      --disabled-bg-color: #3B4455;\n",
              "      --disabled-fill-color: #666;\n",
              "  }\n",
              "\n",
              "  .colab-df-quickchart {\n",
              "    background-color: var(--bg-color);\n",
              "    border: none;\n",
              "    border-radius: 50%;\n",
              "    cursor: pointer;\n",
              "    display: none;\n",
              "    fill: var(--fill-color);\n",
              "    height: 32px;\n",
              "    padding: 0;\n",
              "    width: 32px;\n",
              "  }\n",
              "\n",
              "  .colab-df-quickchart:hover {\n",
              "    background-color: var(--hover-bg-color);\n",
              "    box-shadow: 0 1px 2px rgba(60, 64, 67, 0.3), 0 1px 3px 1px rgba(60, 64, 67, 0.15);\n",
              "    fill: var(--button-hover-fill-color);\n",
              "  }\n",
              "\n",
              "  .colab-df-quickchart-complete:disabled,\n",
              "  .colab-df-quickchart-complete:disabled:hover {\n",
              "    background-color: var(--disabled-bg-color);\n",
              "    fill: var(--disabled-fill-color);\n",
              "    box-shadow: none;\n",
              "  }\n",
              "\n",
              "  .colab-df-spinner {\n",
              "    border: 2px solid var(--fill-color);\n",
              "    border-color: transparent;\n",
              "    border-bottom-color: var(--fill-color);\n",
              "    animation:\n",
              "      spin 1s steps(1) infinite;\n",
              "  }\n",
              "\n",
              "  @keyframes spin {\n",
              "    0% {\n",
              "      border-color: transparent;\n",
              "      border-bottom-color: var(--fill-color);\n",
              "      border-left-color: var(--fill-color);\n",
              "    }\n",
              "    20% {\n",
              "      border-color: transparent;\n",
              "      border-left-color: var(--fill-color);\n",
              "      border-top-color: var(--fill-color);\n",
              "    }\n",
              "    30% {\n",
              "      border-color: transparent;\n",
              "      border-left-color: var(--fill-color);\n",
              "      border-top-color: var(--fill-color);\n",
              "      border-right-color: var(--fill-color);\n",
              "    }\n",
              "    40% {\n",
              "      border-color: transparent;\n",
              "      border-right-color: var(--fill-color);\n",
              "      border-top-color: var(--fill-color);\n",
              "    }\n",
              "    60% {\n",
              "      border-color: transparent;\n",
              "      border-right-color: var(--fill-color);\n",
              "    }\n",
              "    80% {\n",
              "      border-color: transparent;\n",
              "      border-right-color: var(--fill-color);\n",
              "      border-bottom-color: var(--fill-color);\n",
              "    }\n",
              "    90% {\n",
              "      border-color: transparent;\n",
              "      border-bottom-color: var(--fill-color);\n",
              "    }\n",
              "  }\n",
              "</style>\n",
              "\n",
              "  <script>\n",
              "    async function quickchart(key) {\n",
              "      const quickchartButtonEl =\n",
              "        document.querySelector('#' + key + ' button');\n",
              "      quickchartButtonEl.disabled = true;  // To prevent multiple clicks.\n",
              "      quickchartButtonEl.classList.add('colab-df-spinner');\n",
              "      try {\n",
              "        const charts = await google.colab.kernel.invokeFunction(\n",
              "            'suggestCharts', [key], {});\n",
              "      } catch (error) {\n",
              "        console.error('Error during call to suggestCharts:', error);\n",
              "      }\n",
              "      quickchartButtonEl.classList.remove('colab-df-spinner');\n",
              "      quickchartButtonEl.classList.add('colab-df-quickchart-complete');\n",
              "    }\n",
              "    (() => {\n",
              "      let quickchartButtonEl =\n",
              "        document.querySelector('#df-810fdb72-346a-4a60-8866-3231fa3df49e button');\n",
              "      quickchartButtonEl.style.display =\n",
              "        google.colab.kernel.accessAllowed ? 'block' : 'none';\n",
              "    })();\n",
              "  </script>\n",
              "</div>\n",
              "\n",
              "  <div id=\"id_d07bc3c9-69fe-400d-b101-f8fe6d102253\">\n",
              "    <style>\n",
              "      .colab-df-generate {\n",
              "        background-color: #E8F0FE;\n",
              "        border: none;\n",
              "        border-radius: 50%;\n",
              "        cursor: pointer;\n",
              "        display: none;\n",
              "        fill: #1967D2;\n",
              "        height: 32px;\n",
              "        padding: 0 0 0 0;\n",
              "        width: 32px;\n",
              "      }\n",
              "\n",
              "      .colab-df-generate:hover {\n",
              "        background-color: #E2EBFA;\n",
              "        box-shadow: 0px 1px 2px rgba(60, 64, 67, 0.3), 0px 1px 3px 1px rgba(60, 64, 67, 0.15);\n",
              "        fill: #174EA6;\n",
              "      }\n",
              "\n",
              "      [theme=dark] .colab-df-generate {\n",
              "        background-color: #3B4455;\n",
              "        fill: #D2E3FC;\n",
              "      }\n",
              "\n",
              "      [theme=dark] .colab-df-generate:hover {\n",
              "        background-color: #434B5C;\n",
              "        box-shadow: 0px 1px 3px 1px rgba(0, 0, 0, 0.15);\n",
              "        filter: drop-shadow(0px 1px 2px rgba(0, 0, 0, 0.3));\n",
              "        fill: #FFFFFF;\n",
              "      }\n",
              "    </style>\n",
              "    <button class=\"colab-df-generate\" onclick=\"generateWithVariable('out_df')\"\n",
              "            title=\"Generate code using this dataframe.\"\n",
              "            style=\"display:none;\">\n",
              "\n",
              "  <svg xmlns=\"http://www.w3.org/2000/svg\" height=\"24px\"viewBox=\"0 0 24 24\"\n",
              "       width=\"24px\">\n",
              "    <path d=\"M7,19H8.4L18.45,9,17,7.55,7,17.6ZM5,21V16.75L18.45,3.32a2,2,0,0,1,2.83,0l1.4,1.43a1.91,1.91,0,0,1,.58,1.4,1.91,1.91,0,0,1-.58,1.4L9.25,21ZM18.45,9,17,7.55Zm-12,3A5.31,5.31,0,0,0,4.9,8.1,5.31,5.31,0,0,0,1,6.5,5.31,5.31,0,0,0,4.9,4.9,5.31,5.31,0,0,0,6.5,1,5.31,5.31,0,0,0,8.1,4.9,5.31,5.31,0,0,0,12,6.5,5.46,5.46,0,0,0,6.5,12Z\"/>\n",
              "  </svg>\n",
              "    </button>\n",
              "    <script>\n",
              "      (() => {\n",
              "      const buttonEl =\n",
              "        document.querySelector('#id_d07bc3c9-69fe-400d-b101-f8fe6d102253 button.colab-df-generate');\n",
              "      buttonEl.style.display =\n",
              "        google.colab.kernel.accessAllowed ? 'block' : 'none';\n",
              "\n",
              "      buttonEl.onclick = () => {\n",
              "        google.colab.notebook.generateWithVariable('out_df');\n",
              "      }\n",
              "      })();\n",
              "    </script>\n",
              "  </div>\n",
              "\n",
              "    </div>\n",
              "  </div>\n"
            ],
            "application/vnd.google.colaboratory.intrinsic+json": {
              "type": "dataframe",
              "variable_name": "out_df",
              "summary": "{\n  \"name\": \"out_df\",\n  \"rows\": 44895,\n  \"fields\": [\n    {\n      \"column\": \"Video_name\",\n      \"properties\": {\n        \"dtype\": \"category\",\n        \"num_unique_values\": 100,\n        \"samples\": [\n          \"case_2084\",\n          \"case_2053\",\n          \"case_2070\"\n        ],\n        \"semantic_type\": \"\",\n        \"description\": \"\"\n      }\n    },\n    {\n      \"column\": \"Frame_id\",\n      \"properties\": {\n        \"dtype\": \"string\",\n        \"num_unique_values\": 44895,\n        \"samples\": [\n          \"case_2072_33834.jpg\",\n          \"case_2005_2624.jpg\",\n          \"case_2055_24652.jpg\"\n        ],\n        \"semantic_type\": \"\",\n        \"description\": \"\"\n      }\n    },\n    {\n      \"column\": \"Predict_phase_id\",\n      \"properties\": {\n        \"dtype\": \"number\",\n        \"std\": 5,\n        \"min\": 1,\n        \"max\": 18,\n        \"num_unique_values\": 3,\n        \"samples\": [\n          18,\n          1,\n          4\n        ],\n        \"semantic_type\": \"\",\n        \"description\": \"\"\n      }\n    }\n  ]\n}"
            }
          },
          "metadata": {},
          "execution_count": 102
        }
      ]
    },
    {
      "cell_type": "code",
      "source": [
        "out_df['Predict_phase_id'].unique()"
      ],
      "metadata": {
        "colab": {
          "base_uri": "https://localhost:8080/"
        },
        "id": "3yrwUFO_FvH7",
        "outputId": "b319d2dc-b15a-461b-9342-3927e7b77249"
      },
      "execution_count": null,
      "outputs": [
        {
          "output_type": "execute_result",
          "data": {
            "text/plain": [
              "array([18,  1,  4])"
            ]
          },
          "metadata": {},
          "execution_count": 103
        }
      ]
    },
    {
      "cell_type": "code",
      "source": [],
      "metadata": {
        "id": "tp1Tw_fAFxDD"
      },
      "execution_count": null,
      "outputs": []
    }
  ],
  "metadata": {
    "accelerator": "GPU",
    "colab": {
      "gpuType": "L4",
      "provenance": [],
      "machine_shape": "hm",
      "mount_file_id": "1vuLBQauuO7Wc0uO34jkyV7ZQz8Lsj-HG",
      "authorship_tag": "ABX9TyMz9nHBQeG2ZkF9sX1Q1ADW",
      "include_colab_link": true
    },
    "kernelspec": {
      "display_name": "Python 3",
      "name": "python3"
    },
    "language_info": {
      "name": "python"
    }
  },
  "nbformat": 4,
  "nbformat_minor": 0
}